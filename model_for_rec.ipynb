{
 "cells": [
  {
   "cell_type": "code",
   "execution_count": 1,
   "id": "afb32eed-12a1-4d94-a5d3-94526ab1c3c3",
   "metadata": {},
   "outputs": [],
   "source": [
    "import torch\n",
    "import torch.nn as nn\n",
    "import torch.optim as optim\n",
    "from torchvision.models import resnet18\n",
    "from torch.utils.data import DataLoader, TensorDataset\n",
    "import numpy as np\n",
    "import pickle\n",
    "import os\n",
    "from sklearn.model_selection import train_test_split"
   ]
  },
  {
   "cell_type": "code",
   "execution_count": 5,
   "id": "bc9e1644-657d-47c0-bf06-44b4d253d29a",
   "metadata": {},
   "outputs": [],
   "source": [
    "class ResNetSpectogramm(nn.Module):\n",
    "    def __init__(self, num_classes):\n",
    "        super.__init__()\n",
    "        self.resnet = resnet18(pretrained=False)\n",
    "        self.resnet.conv1 = nn.Conv2d(1, 32, kernel_size=7, stride=1, padding = 0, bias = False)\n",
    "        self.resnet.fc = nn.Linear(self.resnet.fc.in_features, num_classes)"
   ]
  },
  {
   "cell_type": "code",
   "execution_count": 1,
   "id": "58be8622-5dfe-4de0-85a9-3b7fd114a0c7",
   "metadata": {},
   "outputs": [],
   "source": [
    "# загрузка данных\n",
    "\n",
    "def load_data(data_dir):\n",
    "    spectrograms = []\n",
    "    labels = []\n",
    "    class_names = sorted(os.listdir(data_dir))\n",
    "    \n",
    "    for class_idx, class_name in enumerate(class_names):\n",
    "        class_dir = os.path.join(data_dir, class_name)\n",
    "        for pkl_file in os.listdir(class_dir):\n",
    "            if pkl_file.endswith('.pkl'):\n",
    "                with open(os.path.join(class_dir, pkl_file), 'rb') as f:\n",
    "                    spec = pickle.load(f)\n",
    "                spectrograms.append(spec)\n",
    "                labels.append(class_idx)\n",
    "    \n",
    "    return np.array(spectrograms), np.array(labels), class_names\n",
    "\n",
    "\n",
    "\n",
    "def prepare_loaders(X, y, test_size=0.2, batch_size=32):\n",
    "    #X = (X - X.mean()) / X.std()\n",
    "    X = torch.FloatTensor(X).unsqueeze(1)\n",
    "    y = torch.LongTensor(y)\n",
    "    \n",
    "    X_train, X_val, y_train, y_val = train_test_split(\n",
    "        X, y, test_size=test_size, random_state=42, stratify=y\n",
    "    )\n",
    "    \n",
    "    train_loader = DataLoader(\n",
    "        TensorDataset(X_train, y_train),\n",
    "        batch_size=batch_size,\n",
    "        shuffle=True\n",
    "    )\n",
    "    val_loader = DataLoader(\n",
    "        TensorDataset(X_val, y_val),\n",
    "        batch_size=batch_size\n",
    "    )\n",
    "    return train_loader, val_loader\n",
    "\n",
    "# Код для обучения\n",
    "\n",
    "def train_model():\n",
    "\n"
   ]
  },
  {
   "cell_type": "code",
   "execution_count": null,
   "id": "c9ad316b-d2f2-4b68-9ff6-dc186b6cb935",
   "metadata": {},
   "outputs": [],
   "source": []
  },
  {
   "cell_type": "code",
   "execution_count": 7,
   "id": "405930c5-7eb8-461f-8396-688714b96326",
   "metadata": {},
   "outputs": [
    {
     "data": {
      "text/plain": [
       "Module()"
      ]
     },
     "execution_count": 7,
     "metadata": {},
     "output_type": "execute_result"
    }
   ],
   "source": []
  },
  {
   "cell_type": "code",
   "execution_count": null,
   "id": "e5822296-fabf-4a3b-89c1-b93873fa5675",
   "metadata": {},
   "outputs": [],
   "source": []
  }
 ],
 "metadata": {
  "kernelspec": {
   "display_name": "Python 3 (ipykernel)",
   "language": "python",
   "name": "python3"
  },
  "language_info": {
   "codemirror_mode": {
    "name": "ipython",
    "version": 3
   },
   "file_extension": ".py",
   "mimetype": "text/x-python",
   "name": "python",
   "nbconvert_exporter": "python",
   "pygments_lexer": "ipython3",
   "version": "3.13.1"
  }
 },
 "nbformat": 4,
 "nbformat_minor": 5
}
